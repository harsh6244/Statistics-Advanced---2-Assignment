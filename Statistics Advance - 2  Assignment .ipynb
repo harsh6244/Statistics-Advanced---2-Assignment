{
 "cells": [
  {
   "cell_type": "markdown",
   "id": "b136425a-d4e9-40b7-852b-dc938d700650",
   "metadata": {},
   "source": [
    "# Statistics Advance - 2 \n",
    "# Assignment Questions"
   ]
  },
  {
   "cell_type": "markdown",
   "id": "b8df0017-c1a8-4036-adfc-df5ecc5bcb3a",
   "metadata": {},
   "source": [
    "### Question1: Define the z-statistic and explain its relationship to the standard normal distribution. How is the z-statistic used in hypothesis testing?"
   ]
  },
  {
   "cell_type": "markdown",
   "id": "e199c608-49ef-4733-a5c8-83aec3128cc7",
   "metadata": {},
   "source": [
    "* Z-statistic : Measures how many standard deviations a data point is away from the mean.\r\n",
    "* \r\n",
    "Relationship to the Standard Normal Distribution: Z-statistic uses a normal distribution with a mean of 0 and a standard deviation of 1. It convert   s any normal distribution to a standard normal distributio.** \r\n",
    "\r\n",
    "Usage in Hypothesis Testing: By using the Z-statistic, we can determine the p-value through the Z-table. This helps analyze the likelihood of observed data under the null hypothesis."
   ]
  },
  {
   "cell_type": "markdown",
   "id": "c101eaf4-d1a3-45b0-9407-4ed7e7f90099",
   "metadata": {},
   "source": [
    "### Question2 : What is a p-value, and how is it used in hypothesis testing? What does it mean if the p-value is very small (e.g., 0.01)?"
   ]
  },
  {
   "cell_type": "code",
   "execution_count": null,
   "id": "387d2f9d-1693-4c96-ab52-94097e2aac57",
   "metadata": {},
   "outputs": [],
   "source": [
    "P-value: The probability value that measures the strength of evidence against the null hypothesis.\n",
    "\n",
    "Decision Rule:\n",
    "If p-value < alpha, reject the null hypothesis.\n",
    "If p-value > alpha, fail to reject the null hypothesis.\n",
    "\n",
    "Interpretation:\n",
    "If the p-value is very small (e.g., 0.01), it provides strong evidence to reject the null hypothesis."
   ]
  },
  {
   "cell_type": "markdown",
   "id": "3ff9abee-7980-4860-a671-a0bf1d788d1c",
   "metadata": {},
   "source": [
    "### Question3: Compare and contrast the binomial and Bernoulli distributions."
   ]
  },
  {
   "cell_type": "code",
   "execution_count": null,
   "id": "8f9d07d9-7c05-4503-9c8f-5d99fc161027",
   "metadata": {},
   "outputs": [],
   "source": [
    "Bernoulli Distribution:\n",
    "Discrete Distribution: It describes a single trial with two possible outcomes: success or failure.\n",
    "One Trial: There is only one trial.\n",
    "Two Possible Outcomes: Success (1) or failure (0).\n",
    "\n",
    "\n",
    "Binomial Distribution:\n",
    "Multiple Trials: Consists of n Bernoulli trials.\n",
    "Two Possible Outcomes Per Trial: Success (1) or failure (0).\n",
    "Independent Trails: Each trail is independendent to previous one."
   ]
  },
  {
   "cell_type": "markdown",
   "id": "d9b67e2c-2299-459f-b70c-248d07c2df4a",
   "metadata": {},
   "source": [
    "### Question 4: Under what conditions is the binomial distribution used, and how does it relate to the Bernoulli distribution?"
   ]
  },
  {
   "cell_type": "code",
   "execution_count": null,
   "id": "0341a323-3d5c-42b9-8608-446f796d5c05",
   "metadata": {},
   "outputs": [],
   "source": [
    "Conditions for Using the Binomial Distribution:\n",
    "1. Single Trial\n",
    "2. Two possible outcome\n",
    "3. Independent trial\n",
    "4. constant probablity(Each time probablity of getting favourable outcome is same).\n",
    "\n",
    "Relationship to the Bernoulli Distribution:\n",
    "When we do n bernoulli trials then we use binomial distribution\n",
    "Binomial distribution counts number of success in n counts."
   ]
  },
  {
   "cell_type": "markdown",
   "id": "f5486852-b78b-4036-9932-48b13426b3db",
   "metadata": {},
   "source": [
    "### Question5: What are the key properties of the Poisson distribution, and when is it appropriate to use this distribution"
   ]
  },
  {
   "cell_type": "code",
   "execution_count": null,
   "id": "0711eda1-e1d5-4a93-b6ee-1563b92db6d1",
   "metadata": {},
   "outputs": [],
   "source": [
    "Poisson distribution models the number of successes within a fixed interval of time or space, where each event is independent. \n",
    "Example: Predicting the number of customers arriving at a store in a given period.\n",
    "\n",
    "Key Properties :\n",
    "Discrete Events: It models the number of times an event occurs in a fixed interval of time or space.\n",
    "\n",
    "Independence: Each event occurs independently of the others.\n",
    "\n",
    "Constant Rate (lemda): The average rate (lembda) at which events occur is constant.\n",
    "\n",
    "No Clumping: Events are spread out over time or space without clustering.\n",
    "\n",
    "Probability of Single Events: The probability of more than one event occurring in small interval is negligible."
   ]
  },
  {
   "cell_type": "markdown",
   "id": "ed9535ed-7a43-4b2b-b66d-19dc08dee608",
   "metadata": {},
   "source": [
    "### Question6: Define the terms \"probability distribution\" and \"probability density function\" (PDF). How does a PDF differ from a probability mass function (PMF)"
   ]
  },
  {
   "cell_type": "raw",
   "id": "c9c3cad6-b304-455f-bb60-3f1d5a3a655c",
   "metadata": {},
   "source": [
    "Probablity Distribution : It is a statical function use to assign value to each of the possible outcomes.\n",
    "PDF : Distribution of continuous random variable is called PDF \n",
    "The area under the PDF curve over an interval represents the probability of the variable falling within that interval. The total area under the curve equals 1.\n",
    "      \n",
    "PMF : Distribution of discrete random variable is called PMF \n",
    "It assigns probabilities to each possible value. The sum of all probabilities equals 1.\n",
    "\n",
    "\n",
    "\n",
    "Key Differences:\n",
    "PDF (Continuous): Represents probabilities as areas under a curve. The height of the curve at any point is a density, not a direct probability.\n",
    "\n",
    "PMF (Discrete): Represents probabilities as exact values for each outcome."
   ]
  },
  {
   "cell_type": "markdown",
   "id": "c30897cf-8023-4e35-82cd-08decf94f325",
   "metadata": {},
   "source": [
    "### Question7: Explain the Central Limit Theorem (CLT) with example."
   ]
  },
  {
   "cell_type": "markdown",
   "id": "6166bf28-f092-4c10-bba4-a3d040b35dba",
   "metadata": {},
   "source": [
    "Center limit theorem : \"When we take a large sample number of sample where sample size>30, the distribution of the sample mean approaches a normal distribution, regardless of the original population distribution.\"\n",
    "\n",
    "Example : if i  manage a bank and want to understand the average number of customers arriving each hour, even though arrival times can be irregular.\n",
    "\n",
    "\n",
    "Collect Samples: Over a month, record the number of customers arriving every hour. Each day, you take 30 samples (each sample representing one hour of customer arrivals).\r\n",
    "\r\n",
    "Calculate Sample Means: For each day, calculate the mean number of customer arrivals from the 30 samples.\r\n",
    "\r\n",
    "Plot the Sample Means: Wwe you plot these daily sample meawe would gett as the number of samples increases, the distribution of the sample means will start to resemble a normal distribution, even if the original arrival times are irregular or skewed."
   ]
  },
  {
   "cell_type": "markdown",
   "id": "0ae1620b-8903-4b0e-be6a-9346834a14b8",
   "metadata": {},
   "source": [
    "### Question8: Compare z-scores and t-scores. When should you use a z-score, and when should a t-score be applied instead"
   ]
  },
  {
   "cell_type": "code",
   "execution_count": null,
   "id": "0c7e50d0-71bf-41b4-9744-8126e96c37fc",
   "metadata": {},
   "outputs": [],
   "source": [
    "Z-Test: Used when the population mean and standard deviation are known, and the sample size is large (n > 30).\n",
    "\n",
    "T-Test: Used when the population mean and standard deviation are unknown, and the sample size is small (n < 30)."
   ]
  },
  {
   "cell_type": "markdown",
   "id": "a738e5c6-1d10-4223-9077-9e403f5d3799",
   "metadata": {},
   "source": [
    "### Question9: Given a sample mean of 105, a population mean of 100, a standard deviation of 15, and a sample size of 25,\n",
    "### calculate the z-score and p-value.Based on a significance level of 0.05, do you reject or fail to reject the null hypothesis?\n",
    "### Task: Write Python code to calculate the z-score and p-value for the given data.\n",
    "### Objective: Apply the formula for the z-score and interpret the p-value for hypothesis testing."
   ]
  },
  {
   "cell_type": "code",
   "execution_count": 3,
   "id": "8588c92d-0888-4572-9e33-85e48aaa734a",
   "metadata": {},
   "outputs": [
    {
     "name": "stdout",
     "output_type": "stream",
     "text": [
      "z-score : 1.6666666666666667\n",
      "p-value : 0.047790352272814696\n",
      "reject the null hypothesis\n"
     ]
    }
   ],
   "source": [
    "import scipy.stats as stats\n",
    "import math\n",
    "Sample_mean = 105\n",
    "population_mean = 100\n",
    "standard_deviation = 15\n",
    "sample_size = 25\n",
    "alpha = 0.05\n",
    "\n",
    "\n",
    "standard_error = standard_deviation/math.sqrt(sample_size)\n",
    "z_score = (Sample_mean - population_mean)/standard_error\n",
    "\n",
    "# Calculating the p-value (one-tailed test)\n",
    "p_value = 1 - stats.norm.cdf(z_score)\n",
    "\n",
    "\n",
    "print(\"z-score :\", z_score)\n",
    "print(\"p-value :\" , p_value)\n",
    "\n",
    "if p_value < alpha:\n",
    "    print(\"reject the null hypothesis\")\n",
    "else:\n",
    "    print(\"fail to reject the null hypothesis\")"
   ]
  },
  {
   "cell_type": "raw",
   "id": "4bbc0ab7-b80b-4388-ba21-2b6f5a6b634d",
   "metadata": {},
   "source": [
    "Question10: Simulate a binomial distribution with 10 trials and a probability of success of 0.6 using Python. \n",
    "Generate 1,000 samples and plot the distribution. What is the expected mean and variance?\n",
    "\n",
    "Task: Use Python to generate the data, plot the distribution, and calculate the mean and variance.\n",
    "\n",
    "Objective: Understand the properties of a binomial distribution and verify them through simulation"
   ]
  },
  {
   "cell_type": "code",
   "execution_count": 7,
   "id": "59fac1d1-590e-474d-8481-06084b9c11f4",
   "metadata": {},
   "outputs": [
    {
     "data": {
      "image/png": "[encoded data removed]",
      "text/plain": [
       "<Figure size 640x480 with 1 Axes>"
      ]
     },
     "metadata": {},
     "output_type": "display_data"
    },
    {
     "name": "stdout",
     "output_type": "stream",
     "text": [
      "Expected Mean: 6.0\n",
      "Expected Variance: 2.4000000000000004\n"
     ]
    }
   ],
   "source": [
    "import numpy as np\n",
    "import matplotlib.pyplot as plt\n",
    "import seaborn as sns\n",
    "\n",
    "# Parameters for the binomial distribution\n",
    "n_trials = 10\n",
    "p_success = 0.6\n",
    "n_samples = 1000\n",
    "\n",
    "# Generate 1000 samples from a binomial distribution\n",
    "samples = np.random.binomial(n_trials, p_success, n_samples)\n",
    "\n",
    "# Plot the distribution of the samples\n",
    "sns.histplot(samples, bins=np.arange(n_trials + 2) - 0.5, stat=\"density\", kde=False)\n",
    "plt.title('Binomial Distribution: n=10, p=0.6')\n",
    "plt.xlabel('Number of Successes')\n",
    "plt.ylabel('Density')\n",
    "plt.xticks(range(n_trials + 1))\n",
    "plt.grid(axis='y')\n",
    "plt.show()\n",
    "\n",
    "# Calculate the expected mean and variance\n",
    "expected_mean = n_trials * p_success\n",
    "expected_variance = n_trials * p_success * (1 - p_success)\n",
    "\n",
    "print(f'Expected Mean: {expected_mean}')\n",
    "print(f'Expected Variance: {expected_variance}')\n"
   ]
  },
  {
   "cell_type": "code",
   "execution_count": null,
   "id": "cac29f10-6c33-402e-98cf-317f1e49474a",
   "metadata": {},
   "outputs": [],
   "source": []
  },
  {
   "cell_type": "code",
   "execution_count": null,
   "id": "3747298b-7898-456c-8126-8e7de01808ef",
   "metadata": {},
   "outputs": [],
   "source": []
  },
  {
   "cell_type": "code",
   "execution_count": null,
   "id": "705bb6ad-0ed3-4e2c-87cd-21b1d2b6d106",
   "metadata": {},
   "outputs": [],
   "source": []
  }
 ],
 "metadata": {
  "kernelspec": {
   "display_name": "Python 3 (ipykernel)",
   "language": "python",
   "name": "python3"
  },
  "language_info": {
   "codemirror_mode": {
    "name": "ipython",
    "version": 3
   },
   "file_extension": ".py",
   "mimetype": "text/x-python",
   "name": "python",
   "nbconvert_exporter": "python",
   "pygments_lexer": "ipython3",
   "version": "3.12.4"
  }
 },
 "nbformat": 4,
 "nbformat_minor": 5
}
